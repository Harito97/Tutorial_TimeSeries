{
 "cells": [
  {
   "cell_type": "markdown",
   "metadata": {},
   "source": [
    "**Trends**"
   ]
  },
  {
   "cell_type": "markdown",
   "metadata": {},
   "source": [
    "# Tóm Tắt Chương 3: Xu Hướng"
   ]
  },
  {
   "cell_type": "markdown",
   "metadata": {},
   "source": [
    "**Chương 3** của cuốn sách \"Time Series Analysis With Applications (+Solutions Manual)\" tập trung vào việc phân tích **xu hướng** trong chuỗi thời gian. \n",
    "\n",
    "## Xu Hướng Xác Định và Ngẫu Nhiên\n",
    "\n",
    "Chương này phân biệt hai loại xu hướng chính: **xu hướng xác định** (deterministic trend) và **xu hướng ngẫu nhiên** (stochastic trend).  **Xu hướng xác định** được định nghĩa bởi **một hàm cố định theo thời gian**, trong khi **xu hướng ngẫu nhiên** bị **ảnh hưởng bởi các yếu tố ngẫu nhiên** và có thể thay đổi theo thời gian.\n",
    "\n",
    "## Ước Lượng Trung Bình Hằng Định\n",
    "\n",
    "Với chuỗi thời gian dừng, hàm trung bình là một hằng số. Chương này thảo luận về cách **ước lượng trung bình hằng định** này. Phương pháp được sử dụng là tính **trung bình mẫu** của chuỗi thời gian.\n",
    "\n",
    "## Phương Pháp Hồi Quy\n",
    "\n",
    "**Phương pháp hồi quy** được sử dụng để ước lượng xu hướng trong chuỗi thời gian. Chương này trình bày chi tiết cách **áp dụng hồi quy tuyến tính** để ước lượng **xu hướng tuyến tính**, bao gồm cả việc ước lượng hệ số góc và tung độ.  \n",
    "Bên cạnh đó là việc sử dụng hồi quy tuyến tính theo từng mùa. Hoặc cách khác là sử dụng hàm **chu kỳ cosine**.\n",
    "\n",
    "## Độ Tin Cậy và Hiệu Quả của Ước Lượng Hồi Quy\n",
    "\n",
    "Chương này thảo luận về **độ tin cậy** và **hiệu quả** của các ước lượng thu được từ phương pháp hồi quy. Các khái niệm về **phương sai** và **độ lệch chuẩn** của ước lượng được giới thiệu để đánh giá độ tin cậy.  \n",
    "\n",
    "## Diễn Giải Kết Quả Hồi Quy\n",
    "\n",
    "Phần này hướng dẫn cách diễn giải kết quả thu được từ phân tích hồi quy, bao gồm cả ý nghĩa thống kê của các hệ số ước lượng và các kiểm định giả thuyết liên quan.\n",
    "\n",
    "## Phân Tích Phần Dư\n",
    "\n",
    "**Phân tích phần dư** là một bước quan trọng để đánh giá **sự phù hợp của mô hình**.  Chương này trình bày các phương pháp để kiểm tra xem các phần dư có thỏa mãn các giả định của mô hình hồi quy hay không, ví dụ như giả định về tính độc lập và phân phối chuẩn. \n",
    "\n",
    "## Tóm Tắt\n",
    "\n",
    "Cuối cùng, Chương 3 tóm tắt các khái niệm chính về phân tích xu hướng, bao gồm cả việc xác định, ước lượng và diễn giải xu hướng. Chương này cung cấp một nền tảng vững chắc cho việc tìm hiểu các mô hình chuỗi thời gian phức tạp hơn trong các chương tiếp theo. "
   ]
  }
 ],
 "metadata": {
  "language_info": {
   "name": "python"
  }
 },
 "nbformat": 4,
 "nbformat_minor": 2
}
