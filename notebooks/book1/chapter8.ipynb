{
 "cells": [
  {
   "cell_type": "markdown",
   "metadata": {},
   "source": []
  },
  {
   "cell_type": "markdown",
   "metadata": {},
   "source": [
    "# 8.10"
   ]
  },
  {
   "cell_type": "code",
   "execution_count": null,
   "metadata": {
    "vscode": {
     "languageId": "plaintext"
    }
   },
   "outputs": [],
   "source": [
    "# Nếu dữ liệu deere3 có sẵn trong một thư viện, hãy tải thư viện:\n",
    "library(deere3)  # Thay bằng tên thư viện đúng nếu có\n",
    "\n",
    "# Giả định dữ liệu đã được load vào một vector có tên deere_data\n",
    "# Sử dụng mô hình AR(1)\n",
    "library(forecast)  # Đảm bảo rằng thư viện forecast đã được cài đặt\n",
    "\n",
    "# Nếu cần, giả định rằng dữ liệu được tải dưới dạng:\n",
    "# deere_data <- c(...)  # Thay thế với giá trị thực tế trong trường hợp có file hoặc dữ liệu thực tế\n",
    "\n",
    "# Bước 1: Xây dựng mô hình AR(1)\n",
    "model_ar1 <- Arima(deere_data, order = c(1, 0, 0))  # order = (p, d, q) với p = 1 cho AR(1)\n",
    "\n",
    "# Bước 2: Kiểm tra phần dư\n",
    "residuals_ar1 <- residuals(model_ar1)\n",
    "\n",
    "# Kiểm tra tính ngẫu nhiên và tự tương quan còn lại\n",
    "# a) Vẽ đồ thị ACF và PACF của phần dư\n",
    "acf(residuals_ar1, main = \"ACF của phần dư AR(1)\")\n",
    "pacf(residuals_ar1, main = \"PACF của phần dư AR(1)\")\n",
    "\n",
    "# b) Kiểm định Ljung-Box cho phần dư\n",
    "Box.test(residuals_ar1, lag = 10, type = \"Ljung-Box\")\n",
    "\n",
    "# c) Kiểm tra tính phân phối chuẩn của phần dư\n",
    "qqnorm(residuals_ar1)\n",
    "qqline(residuals_ar1, col = \"red\")\n",
    "shapiro.test(residuals_ar1)  # Kiểm định Shapiro-Wilk cho phân phối chuẩn\n",
    "\n",
    "# Hiển thị kết quả mô hình\n",
    "summary(model_ar1)\n"
   ]
  }
 ],
 "metadata": {
  "language_info": {
   "name": "python"
  }
 },
 "nbformat": 4,
 "nbformat_minor": 2
}
