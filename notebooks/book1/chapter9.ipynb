{
 "cells": [
  {
   "cell_type": "markdown",
   "metadata": {},
   "source": []
  },
  {
   "cell_type": "markdown",
   "metadata": {},
   "source": [
    "# 9.21"
   ]
  },
  {
   "cell_type": "code",
   "execution_count": 7,
   "metadata": {
    "vscode": {
     "languageId": "r"
    }
   },
   "outputs": [
    {
     "name": "stderr",
     "output_type": "stream",
     "text": [
      "Installing package into ‘/home/harito/R/x86_64-pc-linux-gnu-library/4.4’\n",
      "(as ‘lib’ is unspecified)\n",
      "\n"
     ]
    },
    {
     "name": "stderr",
     "output_type": "stream",
     "text": [
      "Warning message:\n",
      "“package ‘deere3’ is not available for this version of R\n",
      "\n",
      "A version of this package for your version of R might be available elsewhere,\n",
      "see the ideas at\n",
      "https://cran.r-project.org/doc/manuals/r-patched/R-admin.html#Installing-packages”\n",
      "Installing package into ‘/home/harito/R/x86_64-pc-linux-gnu-library/4.4’\n",
      "(as ‘lib’ is unspecified)\n",
      "\n"
     ]
    }
   ],
   "source": [
    "install.packages(\"deere3\")  # Cài đặt thư viện deere3\n",
    "install.packages(\"forecast\") # Cài đặt thư viện forecast"
   ]
  },
  {
   "cell_type": "code",
   "execution_count": null,
   "metadata": {
    "vscode": {
     "languageId": "r"
    }
   },
   "outputs": [],
   "source": [
    "# Load thư viện cần thiết\n",
    "library(forecast)  # Thư viện cung cấp mô hình ARIMA\n",
    "library(deere3)    # Load dữ liệu từ deere3"
   ]
  },
  {
   "cell_type": "code",
   "execution_count": null,
   "metadata": {
    "vscode": {
     "languageId": "r"
    }
   },
   "outputs": [],
   "source": [
    "# Load dữ liệu và xem qua các giá trị ban đầu\n",
    "data(\"deere3\")\n",
    "series <- deere3  # Gán dữ liệu vào một biến mới"
   ]
  },
  {
   "cell_type": "code",
   "execution_count": null,
   "metadata": {
    "vscode": {
     "languageId": "r"
    }
   },
   "outputs": [],
   "source": [
    "# 1. Vẽ biểu đồ chuỗi thời gian ban đầu\n",
    "plot(series, main = \"Chuỗi thời gian của dữ liệu deere3\", \n",
    "     ylab = \"Độ lệch (ten millionths of an inch)\", \n",
    "     xlab = \"Observation\")"
   ]
  },
  {
   "cell_type": "code",
   "execution_count": null,
   "metadata": {
    "vscode": {
     "languageId": "r"
    }
   },
   "outputs": [],
   "source": [
    "# 2. Ước lượng mô hình AR(1)\n",
    "fit <- Arima(series, order = c(1, 0, 0))  # AR(1) là mô hình ARIMA với (p=1, d=0, q=0)"
   ]
  },
  {
   "cell_type": "code",
   "execution_count": null,
   "metadata": {
    "vscode": {
     "languageId": "r"
    }
   },
   "outputs": [],
   "source": [
    "# 3. Dự báo 10 giá trị tiếp theo và tạo giới hạn dự báo 95%\n",
    "forecast_values <- forecast(fit, h = 10, level = 95)"
   ]
  },
  {
   "cell_type": "code",
   "execution_count": null,
   "metadata": {
    "vscode": {
     "languageId": "r"
    }
   },
   "outputs": [],
   "source": [
    "# 4. Vẽ biểu đồ dự báo và giới hạn dự báo\n",
    "plot(forecast_values, main = \"Dự báo AR(1) và giới hạn dự báo 95%\",\n",
    "     ylab = \"Độ lệch (ten millionths of an inch)\", \n",
    "     xlab = \"Observation\")"
   ]
  },
  {
   "cell_type": "code",
   "execution_count": null,
   "metadata": {
    "vscode": {
     "languageId": "r"
    }
   },
   "outputs": [],
   "source": [
    "# 5. Xuất kết quả dự báo và giới hạn\n",
    "print(forecast_values)"
   ]
  }
 ],
 "metadata": {
  "kernelspec": {
   "display_name": "R",
   "language": "R",
   "name": "ir"
  },
  "language_info": {
   "codemirror_mode": "r",
   "file_extension": ".r",
   "mimetype": "text/x-r-source",
   "name": "R",
   "pygments_lexer": "r",
   "version": "4.4.1"
  }
 },
 "nbformat": 4,
 "nbformat_minor": 2
}
