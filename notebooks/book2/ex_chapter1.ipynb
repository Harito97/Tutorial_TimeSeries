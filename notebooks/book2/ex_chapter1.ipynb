{
 "cells": [
  {
   "cell_type": "code",
   "execution_count": null,
   "metadata": {},
   "outputs": [],
   "source": []
  },
  {
   "cell_type": "markdown",
   "metadata": {},
   "source": [
    "Detail in: ```https://rpubs.com/nijibangi05/604005```"
   ]
  },
  {
   "cell_type": "markdown",
   "metadata": {},
   "source": [
    "# Bài toán 1.6: Định tính tính dừng của chuỗi thời gian\n",
    "\n",
    "**Đề bài:**\n",
    "Xét chuỗi thời gian:\n",
    "$$x_t = \\beta_1 + \\beta_2 t + w_t$$\n",
    "trong đó $\\beta_1$ và $\\beta_2$ là các hằng số đã biết, $w_t$ là quá trình nhiễu trắng có phương sai $\\sigma^2_w$.\n",
    "\n",
    "* **Xác định tính dừng của $x_t$.**\n",
    "* **Chứng minh quá trình $y_t = x_t - x_{t-1}$ là dừng.**\n",
    "\n",
    "**Giải:**\n",
    "\n",
    "**Phần 1: Tính dừng của $x_t$**\n",
    "* **Trung bình:** $E[x_t] = \\beta_1 + \\beta_2 t$, là một hàm của thời gian.\n",
    "* **Kết luận:** Vì trung bình không hằng, $x_t$ **không dừng**.\n",
    "\n",
    "**Phần 2: Tính dừng của $y_t = x_t - x_{t-1}$**\n",
    "* **Tính $y_t$:**\n",
    "  $y_t = (\\beta_1 + \\beta_2 t + w_t) - (\\beta_1 + \\beta_2 (t-1) + w_{t-1})$\n",
    "  $y_t = \\beta_2 + w_t - w_{t-1}$\n",
    "\n",
    "* **Trung bình của $y_t$:** $E[y_t] = \\beta_2$, là hằng số.\n",
    "\n",
    "* **Tự tương quan của $y_t$:**\n",
    "  $\\gamma_y(h) = Cov(y_{t+h}, y_t)$\n",
    "  * Với $h = 0$: $\\gamma_y(0) = 2\\sigma^2_w$\n",
    "  * Với $h = 1$: $\\gamma_y(1) = -\\sigma^2_w$\n",
    "  * Với $h = -1$: $\\gamma_y(-1) = -\\sigma^2_w$\n",
    "  * Với $|h| \\geq 2$: $\\gamma_y(h) = 0$\n",
    "\n",
    "* **Kết luận:** Hàm tự tương quan của $y_t$ chỉ phụ thuộc vào độ trễ $h$, không phụ thuộc vào thời gian $t$. Do đó, $y_t$ **là dừng**.\n",
    "\n",
    "**Tóm lại:**\n",
    "* Chuỗi thời gian ban đầu $x_t$ không dừng do trung bình phụ thuộc thời gian.\n",
    "* Chuỗi thời gian chênh lệch $y_t = x_t - x_{t-1}$ là dừng, vì trung bình và tự tương quan không phụ thuộc thời gian.\n"
   ]
  },
  {
   "cell_type": "markdown",
   "metadata": {},
   "source": [
    "1.8. b\n",
    "\n",
    "## Giải thích tính toán mean và variance của chuỗi thời gian\n",
    "\n",
    "### Mean của $x_t$\n",
    "\n",
    "* **Chuỗi thời gian:** $x_t = \\delta t + \\sum_{i=1}^t w_i$\n",
    "* **Trung bình:** $\\mu_x = E[x_t]$\n",
    "* **Tính toán:**\n",
    "  * $E[x_t] = E[\\delta t + \\sum_{i=1}^t w_i]$\n",
    "  * Sử dụng tính chất tuyến tính của kỳ vọng: $E[aX + bY] = aE[X] + bE[Y]$\n",
    "  * $E[x_t] = \\delta t + \\sum_{i=1}^t E[w_i]$\n",
    "  * Do $w_i$ là quá trình nhiễu trắng, nên $E[w_i] = 0$\n",
    "  * $E[x_t] = \\delta t + 0 = \\delta t$\n",
    "\n",
    "### Phương sai của $x_t$\n",
    "\n",
    "* **Phương sai:** $\\gamma_x(t+h, t) = Cov(x_{t+h}, x_t)$\n",
    "* **Tính toán:**\n",
    "  * $Cov(x_{t+h}, x_t) = E[(x_{t+h} - \\mu_{t+h})(x_t - \\mu_t)]$\n",
    "  * Thay $\\mu_{t+h}$ và $\\mu_t$ bằng giá trị đã tính được:\n",
    "    $Cov(x_{t+h}, x_t) = E[(\\sum_{j=1}^{t+h} w_j)(\\sum_{k=1}^t w_k)]$\n",
    "  * Mở ngoặc và sử dụng tính chất tuyến tính của kỳ vọng:\n",
    "    $Cov(x_{t+h}, x_t) = E[w_1^2 + w_2^2 + ... + w_t^2 + w_{t+1}^2 + ... + w_{t+h}^2]$\n",
    "  * Do $w_i$ là quá trình nhiễu trắng, nên $E[w_i^2] = \\sigma^2_w$\n",
    "  * $Cov(x_{t+h}, x_t) = \\sum_{j=1}^t E[w_j^2] = t\\sigma^2_w$\n",
    "\n",
    "**Kết luận:**\n",
    "* Trung bình của $x_t$ là $\\delta t$.\n",
    "* Phương sai của $x_t$ là $t\\sigma^2_w$.\n"
   ]
  }
 ],
 "metadata": {
  "language_info": {
   "name": "python"
  }
 },
 "nbformat": 4,
 "nbformat_minor": 2
}
