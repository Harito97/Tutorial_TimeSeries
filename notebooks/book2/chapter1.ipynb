{
 "cells": [
  {
   "cell_type": "markdown",
   "metadata": {},
   "source": [
    "# Tóm tắt Chương 1: Đặc điểm của Chuỗi thời gian\n",
    "\n",
    "Chương 1 của cuốn sách giới thiệu về chuỗi thời gian và các đặc điểm của chúng.\n",
    "\n",
    "* **Chuỗi thời gian là tập hợp các biến ngẫu nhiên được lập chỉ mục theo thứ tự mà chúng được lấy theo thời gian.** Nói cách khác, một chuỗi thời gian là một chuỗi các quan sát được thực hiện theo thời gian. Mục tiêu chính của phân tích chuỗi thời gian là phát triển các mô hình toán học cung cấp mô tả hợp lý cho dữ liệu mẫu.\n",
    "* Có nhiều loại chuỗi thời gian khác nhau, bao gồm chuỗi **định giá** và **không định giá**. Ví dụ về chuỗi thời gian bao gồm doanh thu hàng quý của Johnson & Johnson, Chỉ số dao động phương Nam (SOI), tỷ lệ lợi nhuận hàng ngày của chỉ số trung bình công nghiệp Dow Jones (DJIA), và các bản ghi âm thanh.\n",
    "* **Mô hình thống kê chuỗi thời gian** được sử dụng để mô tả hành vi của chuỗi thời gian. Một số mô hình thống kê chuỗi thời gian phổ biến bao gồm mô hình **trung bình động (MA)**, mô hình **tự hồi quy (AR)** và mô hình **trung bình động tự hồi quy (ARMA)**.\n",
    "* **Hàm tự tương quan (ACF)** và **hàm tự tương quan riêng phần (PACF)** là hai công cụ quan trọng được sử dụng để mô tả sự phụ thuộc trong chuỗi thời gian. ACF đo lường tương quan giữa hai điểm trong chuỗi thời gian được phân tách bằng một độ trễ nhất định, trong khi PACF đo lường tương quan giữa hai điểm trong chuỗi thời gian được phân tách bằng một độ trễ nhất định sau khi tính đến tương quan ở tất cả các độ trễ ngắn hơn.\n",
    "* **Chuỗi thời gian dừng** là chuỗi có tính chất thống kê không thay đổi theo thời gian. Nhiều mô hình chuỗi thời gian dựa trên giả định về tính dừng.\n",
    "* **Ước lượng tương quan** là một phần quan trọng của phân tích chuỗi thời gian. Có một số phương pháp khác nhau để ước lượng tương quan, bao gồm phương pháp **tự tương quan mẫu**.\n",
    "* **Chuỗi nhiều biến** là chuỗi thời gian có nhiều hơn một biến. Ví dụ, chúng ta có thể quan tâm đến việc nghiên cứu mối quan hệ giữa SOI và chuỗi Tuyển dụng.\n",
    "\n",
    "Chương 1 đặt nền móng cho việc nghiên cứu phân tích chuỗi thời gian bằng cách giới thiệu các khái niệm và định nghĩa cơ bản. Các chương sau sẽ mở rộng những ý tưởng này và thảo luận các phương pháp phân tích và mô hình hóa chuỗi thời gian chi tiết hơn. \n"
   ]
  },
  {
   "cell_type": "markdown",
   "metadata": {},
   "source": [
    "# Tóm tắt chi tiết 6 khía cạnh của chuỗi thời gian từ Chương 1\n",
    "\n",
    "1. **Định nghĩa và Ví dụ**: Chuỗi thời gian là một chuỗi các quan sát được thực hiện theo thời gian. Các quan sát này có thể là các biến ngẫu nhiên. Mục tiêu của phân tích chuỗi thời gian là phát triển một mô hình toán học có thể được sử dụng để mô tả dữ liệu đã cho.  \n",
    "\n",
    "    Ví dụ về chuỗi thời gian:\n",
    "    * **Doanh thu hàng quý của Johnson & Johnson**: Đây là một chuỗi thời gian về dữ liệu tài chính, cho thấy hoạt động kinh doanh của công ty thay đổi như thế nào theo thời gian. \n",
    "    * **Chỉ số Dao động phía Nam (SOI)**: Đây là một chuỗi thời gian khí tượng, ghi lại sự thay đổi áp suất không khí trên một khu vực địa lý theo thời gian.\n",
    "    * **Tỷ lệ lợi nhuận hàng ngày của Chỉ số Trung bình Công nghiệp Dow Jones (DJIA)**: Một ví dụ khác về chuỗi thời gian tài chính, đo lường hiệu suất hàng ngày của thị trường chứng khoán. \n",
    "    * **Bản ghi âm thanh**: Đây là một chuỗi thời gian âm thanh, nắm bắt biên độ của sóng âm thanh theo thời gian. \n",
    "\n",
    "2. **Phân loại**: \n",
    "\n",
    "    * **Chuỗi thời gian định giá**: Chuỗi thời gian định giá có các quan sát được thực hiện tại các thời điểm rời rạc trong thời gian. Ví dụ, doanh thu hàng quý của Johnson & Johnson là một chuỗi thời gian định giá vì các quan sát được thực hiện hàng quý.\n",
    "    * **Chuỗi thời gian không định giá**:  Chuỗi thời gian không định giá có các quan sát được thực hiện liên tục theo thời gian. Ví dụ, bản ghi âm thanh là một chuỗi thời gian không định giá vì sóng âm thanh được ghi lại liên tục.\n",
    "\n",
    "3. **Mô hình Thống kê**:  \n",
    "\n",
    "    * **Mô hình Trung bình Di động (MA)**: Mô hình MA mô tả một chuỗi thời gian là một hàm tuyến tính của các giá trị sai số hiện tại và trong quá khứ. Các mô hình này được sử dụng để nắm bắt các mẫu ngắn hạn trong dữ liệu.\n",
    "    * **Mô hình Tự hồi quy (AR)**: Mô hình AR mô tả một chuỗi thời gian là một hàm tuyến tính của các giá trị trong quá khứ của nó cộng với một số hạng sai số ngẫu nhiên. Các mô hình này được sử dụng để nắm bắt động lượng và các xu hướng dài hạn trong dữ liệu. \n",
    "    * **Mô hình Trung bình Di động Tự hồi quy (ARMA)**: Mô hình ARMA là sự kết hợp của mô hình AR và MA, kết hợp cả hai thành phần tự hồi quy và trung bình di động.\n",
    "\n",
    "4. **Hàm Tự tương quan (ACF)**: ACF đo lường **tương quan giữa hai điểm trong chuỗi thời gian được phân tách bằng một độ trễ nhất định**. Nó được sử dụng để xác định mức độ phụ thuộc tuyến tính giữa các quan sát trong chuỗi thời gian. Ví dụ, ACF của chuỗi SOI cho thấy tương quan đáng kể ở độ trễ 1 và 6 tháng, cho thấy các quan sát cách nhau 1 hoặc 6 tháng có xu hướng tuyến tính với nhau. \n",
    "\n",
    "5. **Hàm Tự tương quan Riêng phần (PACF)**: PACF đo lường **tương quan giữa hai điểm trong chuỗi thời gian được phân tách bằng một độ trễ nhất định sau khi tính đến tương quan ở tất cả các độ trễ ngắn hơn**. Nói cách khác, nó đo lường tương quan trực tiếp giữa hai quan sát sau khi loại bỏ ảnh hưởng của các quan sát trung gian. PACF rất hữu ích để xác định thứ tự của mô hình AR hoặc MA. \n",
    "\n",
    "6. **Tính dừng**: Một chuỗi thời gian được cho là dừng nếu các **tính chất thống kê của nó không thay đổi theo thời gian**. Điều này có nghĩa là giá trị trung bình, phương sai và tự tương quan của chuỗi không đổi theo thời gian. Tính dừng là một giả định quan trọng trong nhiều mô hình chuỗi thời gian, vì nó cho phép chúng tôi sử dụng các phương pháp thống kê để phân tích dữ liệu. Nếu một chuỗi thời gian không dừng, chúng ta có thể thường biến đổi nó thành dừng bằng cách sử dụng các kỹ thuật như phân biệt hoặc biến đổi.\n",
    "\n",
    "    Ví dụ, chuỗi SOI cho thấy một số mức độ tính dừng, với các mẫu tuần hoàn rõ ràng và tương quan nhất quán ở các độ trễ nhất định, cho thấy rằng các tính chất thống kê của nó tương đối ổn định theo thời gian. Tuy nhiên, điều quan trọng cần lưu ý là ngay cả các chuỗi thời gian dừng cũng có thể biểu hiện các biến động ngẫu nhiên và có thể cần phải phân tích thêm để xác định bất kỳ mẫu hoặc xu hướng tiềm ẩn nào.\n",
    "\n"
   ]
  }
 ],
 "metadata": {
  "language_info": {
   "name": "python"
  }
 },
 "nbformat": 4,
 "nbformat_minor": 2
}
