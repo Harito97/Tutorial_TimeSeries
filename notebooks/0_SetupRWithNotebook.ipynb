{
 "cells": [
  {
   "cell_type": "markdown",
   "metadata": {
    "vscode": {
     "languageId": "shellscript"
    }
   },
   "source": [
    "# Cài đặt R\n",
    "\n",
    "```bash\n",
    "yay -S rstudio-desktop-bin\n",
    "# or\n",
    "sudo pacman -S r\n",
    "```"
   ]
  },
  {
   "cell_type": "markdown",
   "metadata": {
    "vscode": {
     "languageId": "shellscript"
    }
   },
   "source": [
    "# Cài đặt R Essentials và R Packages cần thiết\n",
    "\n",
    "```bash\n",
    "/usr/bin/R '--silent' '--slave' '--no-save' '--no-restore' '-e' 'install.packages('languageserver', repos='https://cran.r-project.org/')'\n",
    "```\n",
    "\n",
    "```bash\n",
    "R\n",
    "\n",
    "install.packages(c(\"IRkernel\", \"IRdisplay\"))\n",
    "# > install.packages(c(\"IRkernel\", \"IRdisplay\"))\n",
    "# Warning in install.packages(c(\"IRkernel\", \"IRdisplay\")) :\n",
    "#   'lib = \"/usr/lib/R/library\"' is not writable\n",
    "# Would you like to use a personal library instead? (yes/No/cancel) yes\n",
    "# Would you like to create a personal library\n",
    "# ‘/home/harito/R/x86_64-pc-linux-gnu-library/4.4’\n",
    "# to install packages into? (yes/No/cancel) yes\n",
    "# --- Please select a CRAN mirror for use in this session ---\n",
    "```"
   ]
  },
  {
   "cell_type": "markdown",
   "metadata": {},
   "source": [
    "# Cài đặt Jupyter Notebook và cấu hình kernel R\n",
    "\n",
    "```bash\n",
    "# Cài đặt Python và Jupyter Notebook:\n",
    "pip install notebook\n",
    "# hoac activate moi truong ao Python ma da cai notebook\n",
    "\n",
    "# Cài đặt IRkernel:\n",
    "R\n",
    "# Trước khi cài đặt IRkernel, \n",
    "# bạn cần đảm bảo rằng các gói phụ thuộc như \n",
    "# htmltools, repr, evaluate, và IRdisplay đã được cài đặt. \n",
    "install.packages(\"htmltools\")\n",
    "install.packages(\"repr\")\n",
    "install.packages(\"evaluate\")\n",
    "install.packages(\"IRdisplay\")\n",
    "\n",
    "install.packages('IRkernel')\n",
    "IRkernel::installspec(user = TRUE) \n",
    "# boi vi thu vien cua R chi cai cho nguoi dung harito\n",
    "```"
   ]
  },
  {
   "cell_type": "markdown",
   "metadata": {},
   "source": [
    "# Cài đặt VSCode và cấu hình\n",
    "\n",
    "**Tải và cài đặt VSCode**:\n",
    "    Truy cập Visual Studio Code và tải phiên bản phù hợp với hệ điều hành của bạn.\n",
    "\n",
    "**Cài đặt Extension Jupyter**:\n",
    "    Mở VSCode.\n",
    "    Đi tới Extensions (hoặc nhấn Ctrl+Shift+X).\n",
    "    Tìm kiếm và cài đặt Jupyter.\n",
    "\n",
    "**Cài đặt Extension R**:\n",
    "    Tìm kiếm và cài đặt R Language.\n",
    "    \n",
    "**Cấu hình Jupyter Kernel trong VSCode**:\n",
    "    Mở một cửa sổ mới trong VSCode và chọn Jupyter: Create New Blank Notebook từ Command Palette (Ctrl+Shift+P).\n",
    "    Trong notebook mới, chọn kernel R từ danh sách các kernel.\n",
    "\n",
    "# Sử dụng Jupyter Notebook với R trong VSCode\n",
    "\n",
    "**Tạo một Notebook mới**:\n",
    "    Mở Command Palette (Ctrl+Shift+P), chọn Jupyter: Create New Blank Notebook.\n",
    "    Chọn kernel R từ danh sách.\n",
    "\n",
    "**Bắt đầu viết và chạy mã R**:\n",
    "    Bạn có thể bắt đầu viết mã R vào các ô trong notebook và chạy chúng để kiểm tra kết quả."
   ]
  }
 ],
 "metadata": {
  "kernelspec": {
   "display_name": "R",
   "language": "R",
   "name": "ir"
  },
  "language_info": {
   "name": "R"
  }
 },
 "nbformat": 4,
 "nbformat_minor": 2
}
